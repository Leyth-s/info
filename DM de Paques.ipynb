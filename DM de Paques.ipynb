{
 "cells": [
  {
   "cell_type": "code",
   "execution_count": 66,
   "metadata": {},
   "outputs": [],
   "source": [
    "from numpy.random import uniform\n",
    "\n",
    "def rand():\n",
    "    return uniform()\n",
    "\n",
    "def marche(a, N, p):\n",
    "    x = a\n",
    "    i = 0\n",
    "    while x != 0 and x != N:\n",
    "        if uniform() < p:\n",
    "            x += 1\n",
    "        else:\n",
    "            x -= 1\n",
    "        i += 1\n",
    "    return \"La marche s'arrête en {} et {} pas ont été nécessaires. On a pris p = {}\".format(x, i, p)"
   ]
  },
  {
   "cell_type": "code",
   "execution_count": 70,
   "metadata": {},
   "outputs": [
    {
     "data": {
      "text/plain": [
       "\"La marche s'arrête en 0 et 72 pas ont été nécessaires. On a pris p = 0.1\""
      ]
     },
     "execution_count": 70,
     "metadata": {},
     "output_type": "execute_result"
    }
   ],
   "source": [
    "marche(50, 100, 0.4)"
   ]
  },
  {
   "cell_type": "code",
   "execution_count": null,
   "metadata": {},
   "outputs": [],
   "source": []
  }
 ],
 "metadata": {
  "kernelspec": {
   "display_name": "Python 3",
   "language": "python",
   "name": "python3"
  },
  "language_info": {
   "codemirror_mode": {
    "name": "ipython",
    "version": 3
   },
   "file_extension": ".py",
   "mimetype": "text/x-python",
   "name": "python",
   "nbconvert_exporter": "python",
   "pygments_lexer": "ipython3",
   "version": "3.7.3"
  }
 },
 "nbformat": 4,
 "nbformat_minor": 2
}
