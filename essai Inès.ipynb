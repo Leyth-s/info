{
 "cells": [
  {
   "cell_type": "code",
   "execution_count": 5,
   "metadata": {},
   "outputs": [
    {
     "data": {
      "text/plain": [
       "[<matplotlib.lines.Line2D at 0x7f3771db16a0>]"
      ]
     },
     "execution_count": 5,
     "metadata": {},
     "output_type": "execute_result"
    },
    {
     "data": {
      "image/png": "[encoded data removed]",
      "text/plain": [
       "<Figure size 432x288 with 1 Axes>"
      ]
     },
     "metadata": {
      "needs_background": "light"
     },
     "output_type": "display_data"
    }
   ],
   "source": [
    "from numpy import cos, sin, linspace\n",
    "import matplotlib.pyplot as plt\n",
    "\n",
    "def euler(x0, y0, h, tmax):\n",
    "    n = int(tmax/h)\n",
    "    X, Y, T = [x0], [y0], [0]\n",
    "    for k in range(n):\n",
    "        a = X[k] + h*Y[k]\n",
    "        b = Y[k] + h*sin(X[k])\n",
    "        X.append(a)\n",
    "        Y.append(b)\n",
    "        T.append(T[k] + h)\n",
    "    return X, Y, T\n",
    "X, Y, T = euler(0, 1, 0.01, 20)\n",
    "plt.plot(T, X, 'r')\n",
    "    "
   ]
  },
  {
   "cell_type": "code",
   "execution_count": null,
   "metadata": {},
   "outputs": [],
   "source": []
  },
  {
   "cell_type": "code",
   "execution_count": null,
   "metadata": {},
   "outputs": [],
   "source": []
  },
  {
   "cell_type": "code",
   "execution_count": null,
   "metadata": {},
   "outputs": [],
   "source": []
  }
 ],
 "metadata": {
  "kernelspec": {
   "display_name": "Python 3",
   "language": "python",
   "name": "python3"
  },
  "language_info": {
   "codemirror_mode": {
    "name": "ipython",
    "version": 3
   },
   "file_extension": ".py",
   "mimetype": "text/x-python",
   "name": "python",
   "nbconvert_exporter": "python",
   "pygments_lexer": "ipython3",
   "version": "3.7.3"
  }
 },
 "nbformat": 4,
 "nbformat_minor": 2
}
